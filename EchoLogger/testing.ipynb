{
 "cells": [
  {
   "cell_type": "code",
   "execution_count": null,
   "metadata": {},
   "outputs": [],
   "source": [
    "import serial\n",
    "import time\n",
    "\n",
    "# Configuración del puerto serial\n",
    "port = 'COM3'  # Cambia 'COMX' por el nombre del puerto COM correcto en tu sistema\n",
    "baud_rate = 115200  # Ajusta el baud rate según la configuración de tu dispositivo\n",
    "\n",
    "def send_command(ser, command):\n",
    "    ser.write((command + '\\r\\n').encode())  # Envía el comando seguido de retorno de carro y nueva línea\n",
    "    time.sleep(1)  # Espera para la respuesta\n",
    "    while ser.in_waiting:\n",
    "        print(ser.readline().decode().strip())  # Imprime la respuesta del dispositivo\n",
    "\n"
   ]
  },
  {
   "cell_type": "code",
   "execution_count": null,
   "metadata": {},
   "outputs": [],
   "source": [
    "# Abre el puerto serial\n",
    "with serial.Serial(port, baud_rate, timeout=1) as ser:\n",
    "    # Asegúrate de que el dispositivo esté listo\n",
    "    send_command(ser, '#info')  # Envía un comando para obtener información del dispositivo\n",
    "\n",
    "    # Ejemplos de comandos\n",
    "    send_command(ser, '#setfreqlow')  # Establece la frecuencia de trabajo baja\n",
    "    send_command(ser, '#setfreqhigh')  # Establece la frecuencia de trabajo alta\n",
    "    send_command(ser, '#go')  # Inicia el dispositivo para mediciones\n",
    "    # Puedes añadir más comandos según necesites\n",
    "\n",
    "    # Reset y otros comandos de configuración\n",
    "    send_command(ser, '#reset')  # Resetea el dispositivo"
   ]
  }
 ],
 "metadata": {
  "language_info": {
   "name": "python"
  }
 },
 "nbformat": 4,
 "nbformat_minor": 2
}
